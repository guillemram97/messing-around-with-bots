{
 "cells": [
  {
   "cell_type": "markdown",
   "metadata": {},
   "source": [
    "Aquest bot es connecta a Atenea, mira quina ha estat l'última connexió d'en Padró i envia aquesta informació a una adreça mitjançant Gmail."
   ]
  },
  {
   "cell_type": "code",
   "execution_count": 51,
   "metadata": {},
   "outputs": [],
   "source": [
    "#pip install selenium\n",
    "#conda install -c conda-forge selenium\n",
    "#descarregar driver de Chrome a https://sites.google.com/a/chromium.org/chromedriver/downloads\n",
    "\n",
    "from selenium import webdriver\n",
    "from selenium.webdriver.common.by import By\n",
    "from selenium.webdriver.support.ui import WebDriverWait\n",
    "from selenium.webdriver.support import expected_conditions as EC\n",
    "\n",
    "import time\n",
    "\n",
    "from IPython.display import HTML #amaga codi"
   ]
  },
  {
   "cell_type": "code",
   "execution_count": 42,
   "metadata": {},
   "outputs": [],
   "source": [
    "#USERNAMES I PASSWORDS\n",
    "\n",
    "USER='' #gmail\n",
    "PASS='' #gmail\n",
    "usernameStr = '' #atenea\n",
    "passwordStr = '' #atenea"
   ]
  },
  {
   "cell_type": "code",
   "execution_count": 79,
   "metadata": {},
   "outputs": [],
   "source": [
    "browser = webdriver.Chrome()\n",
    "\n",
    "########### ENTREM A ATENEA ###########\n",
    "browser.get(('https://atenea.upc.edu/login/index.php'))\n",
    "\n",
    "login = browser.find_element_by_class_name(\"caslogin\")\n",
    "login.click()\n",
    "\n",
    "username = browser.find_element_by_id(\"username\")\n",
    "username.send_keys(usernameStr)\n",
    "password = browser.find_element_by_id(\"password\")\n",
    "password.send_keys(passwordStr)\n",
    "\n",
    "atenea = browser.find_element_by_class_name(\"submit\")\n",
    "atenea.click()\n",
    "atenea = browser.find_element_by_link_text('200245 - CRIPTOLOGIA (Curs Total)')\n",
    "atenea.click()\n",
    "browser.find_element_by_xpath('//*[@title=\"Llista de tota la gent\"]').click()\n",
    "padro = browser.find_element_by_link_text('Padro Laimon Carles').click()\n",
    "#atena es lultima connex\n",
    "atena = browser.find_element_by_xpath('//*[@class=\"profile_tree\"]/section[4]/ul[1]/li[1]/dl[1]/dd[1]').text\n",
    "\n",
    "\n",
    "########### ENTREM A GMAIL ###########\n",
    "browser.get(('https://gmail.com'))\n",
    "usernameGM = browser.find_element_by_id(\"identifierId\")\n",
    "usernameGM.send_keys(USER)\n",
    "siguiente=browser.find_element_by_id(\"identifierNext\")\n",
    "siguiente.click()\n",
    "time.sleep(2)\n",
    "passwordGM=browser.find_element_by_xpath('//*[@class=\"whsOnd zHQkBf\"]')\n",
    "passwordGM.send_keys(PASS)\n",
    "siguiente2=browser.find_element_by_id(\"passwordNext\")\n",
    "siguiente2.click()\n",
    "time.sleep(3)\n",
    "redactar=browser.find_element_by_xpath('//*[@class=\"T-I J-J5-Ji T-I-KE L3\"]')\n",
    "redactar.click()\n",
    "time.sleep(1)\n",
    "recipient=browser.find_element_by_xpath('//*[@aria-label=\"Para\"]')\n",
    "recipient.send_keys(\"melcior.pijoan@basetis.com\") #a qui se li envia\n",
    "cos=browser.find_element_by_id(\":nw\")\n",
    "cos.send_keys(\"ÚLTIMA CONNEXIÓ DEL PADRÓ: \")\n",
    "cos.send_keys(atena)\n",
    "asuntu=browser.find_element_by_id(\":mr\")\n",
    "asuntu.send_keys(\"putu PADRÓ\")\n",
    "send=browser.find_element_by_xpath('//*[@class=\"T-I J-J5-Ji aoO T-I-atl L3\"]')\n",
    "send.click()"
   ]
  },
  {
   "cell_type": "code",
   "execution_count": 81,
   "metadata": {},
   "outputs": [
    {
     "ename": "NameError",
     "evalue": "name 'HTML' is not defined",
     "output_type": "error",
     "traceback": [
      "\u001b[1;31m---------------------------------------------------------------------------\u001b[0m",
      "\u001b[1;31mNameError\u001b[0m                                 Traceback (most recent call last)",
      "\u001b[1;32m<ipython-input-81-1851d8bbba9b>\u001b[0m in \u001b[0;36m<module>\u001b[1;34m()\u001b[0m\n\u001b[0;32m      1\u001b[0m \u001b[1;31m# AMAGA CODI\u001b[0m\u001b[1;33m\u001b[0m\u001b[1;33m\u001b[0m\u001b[0m\n\u001b[0;32m      2\u001b[0m \u001b[1;33m\u001b[0m\u001b[0m\n\u001b[1;32m----> 3\u001b[1;33m HTML('''<script>\n\u001b[0m\u001b[0;32m      4\u001b[0m \u001b[0mcode_show\u001b[0m\u001b[1;33m=\u001b[0m\u001b[0mtrue\u001b[0m\u001b[1;33m;\u001b[0m\u001b[1;33m\u001b[0m\u001b[0m\n\u001b[0;32m      5\u001b[0m function code_toggle() {\n",
      "\u001b[1;31mNameError\u001b[0m: name 'HTML' is not defined"
     ]
    }
   ],
   "source": [
    "# AMAGA CODI\n",
    "\n",
    "HTML('''<script>\n",
    "code_show=true; \n",
    "function code_toggle() {\n",
    " if (code_show){\n",
    " $('div.input').hide();\n",
    " } else {\n",
    " $('div.input').show();\n",
    " }\n",
    " code_show = !code_show\n",
    "} \n",
    "$( document ).ready(code_toggle);\n",
    "</script>\n",
    "The raw code for this IPython notebook is by default hidden for easier reading.\n",
    "To toggle on/off the raw code, click <a href=\"javascript:code_toggle()\">here</a>.''')"
   ]
  }
 ],
 "metadata": {
  "anaconda-cloud": {},
  "kernelspec": {
   "display_name": "Python 3",
   "language": "python",
   "name": "python3"
  },
  "language_info": {
   "codemirror_mode": {
    "name": "ipython",
    "version": 3
   },
   "file_extension": ".py",
   "mimetype": "text/x-python",
   "name": "python",
   "nbconvert_exporter": "python",
   "pygments_lexer": "ipython3",
   "version": "3.6.5"
  }
 },
 "nbformat": 4,
 "nbformat_minor": 1
}
